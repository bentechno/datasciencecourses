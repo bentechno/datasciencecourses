{
 "cells": [
  {
   "cell_type": "code",
   "execution_count": 1,
   "metadata": {},
   "outputs": [],
   "source": [
    "import pandas as pd\n",
    "import glob, os   \n",
    "pathFiles = r'data/Datasets_Healthy_Older_People/dataset'\n",
    "all_files = glob.glob(os.path.join(pathFiles, \"*\"))\n",
    "#df = pd.concat((pd.read_csv(f, header=0) for f in all_files), axis=0, ignore_index=True)\n",
    "li = []\n",
    "\n",
    "for filename in all_files:\n",
    "    df = pd.read_csv(filename, index_col=None, header= None, names=['timeSec', 'accFrontal', 'accVertical', 'accLateral', 'antennaID', 'rssi', 'phase', 'frequency', 'activity'])\n",
    "    li.append(df)\n",
    "dataAll = pd.concat(li, axis=0, ignore_index=True)"
   ]
  },
  {
   "cell_type": "code",
   "execution_count": 6,
   "metadata": {},
   "outputs": [
    {
     "data": {
      "text/html": [
       "<div>\n",
       "<style scoped>\n",
       "    .dataframe tbody tr th:only-of-type {\n",
       "        vertical-align: middle;\n",
       "    }\n",
       "\n",
       "    .dataframe tbody tr th {\n",
       "        vertical-align: top;\n",
       "    }\n",
       "\n",
       "    .dataframe thead th {\n",
       "        text-align: right;\n",
       "    }\n",
       "</style>\n",
       "<table border=\"1\" class=\"dataframe\">\n",
       "  <thead>\n",
       "    <tr style=\"text-align: right;\">\n",
       "      <th></th>\n",
       "      <th>timeSec1</th>\n",
       "      <th>accFrontal</th>\n",
       "      <th>accVertical</th>\n",
       "      <th>accLateral</th>\n",
       "      <th>antennaID</th>\n",
       "      <th>rssi</th>\n",
       "      <th>phase</th>\n",
       "      <th>frequency</th>\n",
       "      <th>activity</th>\n",
       "    </tr>\n",
       "  </thead>\n",
       "  <tbody>\n",
       "    <tr>\n",
       "      <th>0</th>\n",
       "      <td>0.00</td>\n",
       "      <td>0.27203</td>\n",
       "      <td>1.00820</td>\n",
       "      <td>-0.082102</td>\n",
       "      <td>1</td>\n",
       "      <td>-63.5</td>\n",
       "      <td>2.4252</td>\n",
       "      <td>924.25</td>\n",
       "      <td>1</td>\n",
       "    </tr>\n",
       "    <tr>\n",
       "      <th>1</th>\n",
       "      <td>0.50</td>\n",
       "      <td>0.27203</td>\n",
       "      <td>1.00820</td>\n",
       "      <td>-0.082102</td>\n",
       "      <td>1</td>\n",
       "      <td>-63.0</td>\n",
       "      <td>4.7369</td>\n",
       "      <td>921.75</td>\n",
       "      <td>1</td>\n",
       "    </tr>\n",
       "    <tr>\n",
       "      <th>2</th>\n",
       "      <td>1.50</td>\n",
       "      <td>0.44791</td>\n",
       "      <td>0.91636</td>\n",
       "      <td>-0.013684</td>\n",
       "      <td>1</td>\n",
       "      <td>-63.5</td>\n",
       "      <td>3.0311</td>\n",
       "      <td>923.75</td>\n",
       "      <td>1</td>\n",
       "    </tr>\n",
       "    <tr>\n",
       "      <th>3</th>\n",
       "      <td>1.75</td>\n",
       "      <td>0.44791</td>\n",
       "      <td>0.91636</td>\n",
       "      <td>-0.013684</td>\n",
       "      <td>1</td>\n",
       "      <td>-63.0</td>\n",
       "      <td>2.0371</td>\n",
       "      <td>921.25</td>\n",
       "      <td>1</td>\n",
       "    </tr>\n",
       "    <tr>\n",
       "      <th>4</th>\n",
       "      <td>2.50</td>\n",
       "      <td>0.34238</td>\n",
       "      <td>0.96229</td>\n",
       "      <td>-0.059296</td>\n",
       "      <td>1</td>\n",
       "      <td>-63.5</td>\n",
       "      <td>5.8920</td>\n",
       "      <td>920.25</td>\n",
       "      <td>1</td>\n",
       "    </tr>\n",
       "    <tr>\n",
       "      <th>5</th>\n",
       "      <td>3.25</td>\n",
       "      <td>0.34238</td>\n",
       "      <td>0.96229</td>\n",
       "      <td>-0.059296</td>\n",
       "      <td>4</td>\n",
       "      <td>-56.5</td>\n",
       "      <td>1.2563</td>\n",
       "      <td>924.75</td>\n",
       "      <td>1</td>\n",
       "    </tr>\n",
       "    <tr>\n",
       "      <th>6</th>\n",
       "      <td>4.00</td>\n",
       "      <td>0.30721</td>\n",
       "      <td>0.99674</td>\n",
       "      <td>-0.070699</td>\n",
       "      <td>1</td>\n",
       "      <td>-63.5</td>\n",
       "      <td>3.8718</td>\n",
       "      <td>922.75</td>\n",
       "      <td>1</td>\n",
       "    </tr>\n",
       "    <tr>\n",
       "      <th>7</th>\n",
       "      <td>5.00</td>\n",
       "      <td>0.27203</td>\n",
       "      <td>0.99674</td>\n",
       "      <td>-0.093505</td>\n",
       "      <td>1</td>\n",
       "      <td>-64.0</td>\n",
       "      <td>2.4943</td>\n",
       "      <td>924.25</td>\n",
       "      <td>1</td>\n",
       "    </tr>\n",
       "    <tr>\n",
       "      <th>8</th>\n",
       "      <td>5.50</td>\n",
       "      <td>0.23685</td>\n",
       "      <td>1.03120</td>\n",
       "      <td>-0.127710</td>\n",
       "      <td>1</td>\n",
       "      <td>-64.5</td>\n",
       "      <td>2.0080</td>\n",
       "      <td>924.75</td>\n",
       "      <td>1</td>\n",
       "    </tr>\n",
       "    <tr>\n",
       "      <th>9</th>\n",
       "      <td>6.00</td>\n",
       "      <td>0.23685</td>\n",
       "      <td>1.03120</td>\n",
       "      <td>-0.127710</td>\n",
       "      <td>1</td>\n",
       "      <td>-66.0</td>\n",
       "      <td>1.1904</td>\n",
       "      <td>925.75</td>\n",
       "      <td>1</td>\n",
       "    </tr>\n",
       "  </tbody>\n",
       "</table>\n",
       "</div>"
      ],
      "text/plain": [
       "   timeSec1  accFrontal  accVertical  accLateral  antennaID  rssi   phase  \\\n",
       "0      0.00     0.27203      1.00820   -0.082102          1 -63.5  2.4252   \n",
       "1      0.50     0.27203      1.00820   -0.082102          1 -63.0  4.7369   \n",
       "2      1.50     0.44791      0.91636   -0.013684          1 -63.5  3.0311   \n",
       "3      1.75     0.44791      0.91636   -0.013684          1 -63.0  2.0371   \n",
       "4      2.50     0.34238      0.96229   -0.059296          1 -63.5  5.8920   \n",
       "5      3.25     0.34238      0.96229   -0.059296          4 -56.5  1.2563   \n",
       "6      4.00     0.30721      0.99674   -0.070699          1 -63.5  3.8718   \n",
       "7      5.00     0.27203      0.99674   -0.093505          1 -64.0  2.4943   \n",
       "8      5.50     0.23685      1.03120   -0.127710          1 -64.5  2.0080   \n",
       "9      6.00     0.23685      1.03120   -0.127710          1 -66.0  1.1904   \n",
       "\n",
       "   frequency  activity  \n",
       "0     924.25         1  \n",
       "1     921.75         1  \n",
       "2     923.75         1  \n",
       "3     921.25         1  \n",
       "4     920.25         1  \n",
       "5     924.75         1  \n",
       "6     922.75         1  \n",
       "7     924.25         1  \n",
       "8     924.75         1  \n",
       "9     925.75         1  "
      ]
     },
     "execution_count": 6,
     "metadata": {},
     "output_type": "execute_result"
    }
   ],
   "source": [
    "dataAll.head(10)"
   ]
  },
  {
   "cell_type": "code",
   "execution_count": 32,
   "metadata": {},
   "outputs": [
    {
     "data": {
      "text/plain": [
       "75128"
      ]
     },
     "execution_count": 32,
     "metadata": {},
     "output_type": "execute_result"
    }
   ],
   "source": [
    "len(dataAll)"
   ]
  },
  {
   "cell_type": "code",
   "execution_count": 4,
   "metadata": {},
   "outputs": [
    {
     "data": {
      "text/plain": [
       "KMeans(algorithm='auto', copy_x=True, init='k-means++', max_iter=300,\n",
       "       n_clusters=2, n_init=10, n_jobs=None, precompute_distances='auto',\n",
       "       random_state=None, tol=0.0001, verbose=0)"
      ]
     },
     "execution_count": 4,
     "metadata": {},
     "output_type": "execute_result"
    }
   ],
   "source": [
    "import numpy as np\n",
    "from sklearn.cluster import KMeans\n",
    "kmeans = KMeans(n_clusters=2)  \n",
    "kmeans.fit(dataAll)  "
   ]
  },
  {
   "cell_type": "code",
   "execution_count": 17,
   "metadata": {},
   "outputs": [
    {
     "name": "stdout",
     "output_type": "stream",
     "text": [
      "[[199.   1.   0.  -0.   2. -58.   3. 923.   2.]\n",
      " [665.   1.   0.  -1.   3. -58.   3. 922.   3.]]\n"
     ]
    }
   ],
   "source": [
    "print(np.round(kmeans.cluster_centers_,))"
   ]
  },
  {
   "cell_type": "code",
   "execution_count": 16,
   "metadata": {},
   "outputs": [
    {
     "name": "stdout",
     "output_type": "stream",
     "text": [
      "0.6118781883792763\n"
     ]
    }
   ],
   "source": [
    "from sklearn.metrics import silhouette_score\n",
    "print(silhouette_score(dataAll, kmeans.labels_))"
   ]
  },
  {
   "cell_type": "code",
   "execution_count": 20,
   "metadata": {},
   "outputs": [
    {
     "data": {
      "image/png": "[encoded data removed]",
      "text/plain": [
       "<Figure size 432x288 with 1 Axes>"
      ]
     },
     "metadata": {
      "needs_background": "light"
     },
     "output_type": "display_data"
    }
   ],
   "source": [
    "# Import the KElbowVisualizer method \n",
    "from yellowbrick.cluster import KElbowVisualizer\n",
    "\n",
    "# Instantiate a scikit-learn K-Means model\n",
    "kmeans = KMeans(random_state=0)\n",
    "\n",
    "# Instantiate the KElbowVisualizer with the number of clusters and the metric \n",
    "visualizer = KElbowVisualizer(kmeans, k=(2,6), metric='silhouette', timings=False)\n",
    "\n",
    "# Fit the data and visualize\n",
    "visualizer.fit(dataAll)    \n",
    "visualizer.poof()   "
   ]
  },
  {
   "cell_type": "code",
   "execution_count": 38,
   "metadata": {},
   "outputs": [
    {
     "ename": "KeyboardInterrupt",
     "evalue": "",
     "output_type": "error",
     "traceback": [
      "\u001b[0;31m---------------------------------------------------------------------------\u001b[0m",
      "\u001b[0;31mKeyboardInterrupt\u001b[0m                         Traceback (most recent call last)",
      "\u001b[0;32m<ipython-input-38-db451327d162>\u001b[0m in \u001b[0;36m<module>\u001b[0;34m()\u001b[0m\n\u001b[1;32m      9\u001b[0m \u001b[0;34m\u001b[0m\u001b[0m\n\u001b[1;32m     10\u001b[0m \u001b[0;31m# Fit the data and visualize\u001b[0m\u001b[0;34m\u001b[0m\u001b[0;34m\u001b[0m\u001b[0;34m\u001b[0m\u001b[0m\n\u001b[0;32m---> 11\u001b[0;31m \u001b[0mvisualizer\u001b[0m\u001b[0;34m.\u001b[0m\u001b[0mfit\u001b[0m\u001b[0;34m(\u001b[0m\u001b[0mdataAll\u001b[0m\u001b[0;34m)\u001b[0m\u001b[0;34m\u001b[0m\u001b[0;34m\u001b[0m\u001b[0m\n\u001b[0m\u001b[1;32m     12\u001b[0m \u001b[0mvisualizer\u001b[0m\u001b[0;34m.\u001b[0m\u001b[0mpoof\u001b[0m\u001b[0;34m(\u001b[0m\u001b[0;34m)\u001b[0m\u001b[0;34m\u001b[0m\u001b[0;34m\u001b[0m\u001b[0m\n",
      "\u001b[0;32m/usr/local/lib/python3.7/dist-packages/yellowbrick/cluster/elbow.py\u001b[0m in \u001b[0;36mfit\u001b[0;34m(self, X, y, **kwargs)\u001b[0m\n\u001b[1;32m    260\u001b[0m             \u001b[0mself\u001b[0m\u001b[0;34m.\u001b[0m\u001b[0mk_timers_\u001b[0m\u001b[0;34m.\u001b[0m\u001b[0mappend\u001b[0m\u001b[0;34m(\u001b[0m\u001b[0mtime\u001b[0m\u001b[0;34m.\u001b[0m\u001b[0mtime\u001b[0m\u001b[0;34m(\u001b[0m\u001b[0;34m)\u001b[0m \u001b[0;34m-\u001b[0m \u001b[0mstart\u001b[0m\u001b[0;34m)\u001b[0m\u001b[0;34m\u001b[0m\u001b[0;34m\u001b[0m\u001b[0m\n\u001b[1;32m    261\u001b[0m             self.k_scores_.append(\n\u001b[0;32m--> 262\u001b[0;31m                 \u001b[0mself\u001b[0m\u001b[0;34m.\u001b[0m\u001b[0mscoring_metric\u001b[0m\u001b[0;34m(\u001b[0m\u001b[0mX\u001b[0m\u001b[0;34m,\u001b[0m \u001b[0mself\u001b[0m\u001b[0;34m.\u001b[0m\u001b[0mestimator\u001b[0m\u001b[0;34m.\u001b[0m\u001b[0mlabels_\u001b[0m\u001b[0;34m)\u001b[0m\u001b[0;34m\u001b[0m\u001b[0;34m\u001b[0m\u001b[0m\n\u001b[0m\u001b[1;32m    263\u001b[0m             )\n\u001b[1;32m    264\u001b[0m \u001b[0;34m\u001b[0m\u001b[0m\n",
      "\u001b[0;32m/usr/local/lib/python3.7/dist-packages/sklearn/metrics/cluster/unsupervised.py\u001b[0m in \u001b[0;36msilhouette_score\u001b[0;34m(X, labels, metric, sample_size, random_state, **kwds)\u001b[0m\n\u001b[1;32m    115\u001b[0m         \u001b[0;32melse\u001b[0m\u001b[0;34m:\u001b[0m\u001b[0;34m\u001b[0m\u001b[0;34m\u001b[0m\u001b[0m\n\u001b[1;32m    116\u001b[0m             \u001b[0mX\u001b[0m\u001b[0;34m,\u001b[0m \u001b[0mlabels\u001b[0m \u001b[0;34m=\u001b[0m \u001b[0mX\u001b[0m\u001b[0;34m[\u001b[0m\u001b[0mindices\u001b[0m\u001b[0;34m]\u001b[0m\u001b[0;34m,\u001b[0m \u001b[0mlabels\u001b[0m\u001b[0;34m[\u001b[0m\u001b[0mindices\u001b[0m\u001b[0;34m]\u001b[0m\u001b[0;34m\u001b[0m\u001b[0;34m\u001b[0m\u001b[0m\n\u001b[0;32m--> 117\u001b[0;31m     \u001b[0;32mreturn\u001b[0m \u001b[0mnp\u001b[0m\u001b[0;34m.\u001b[0m\u001b[0mmean\u001b[0m\u001b[0;34m(\u001b[0m\u001b[0msilhouette_samples\u001b[0m\u001b[0;34m(\u001b[0m\u001b[0mX\u001b[0m\u001b[0;34m,\u001b[0m \u001b[0mlabels\u001b[0m\u001b[0;34m,\u001b[0m \u001b[0mmetric\u001b[0m\u001b[0;34m=\u001b[0m\u001b[0mmetric\u001b[0m\u001b[0;34m,\u001b[0m \u001b[0;34m**\u001b[0m\u001b[0mkwds\u001b[0m\u001b[0;34m)\u001b[0m\u001b[0;34m)\u001b[0m\u001b[0;34m\u001b[0m\u001b[0;34m\u001b[0m\u001b[0m\n\u001b[0m\u001b[1;32m    118\u001b[0m \u001b[0;34m\u001b[0m\u001b[0m\n\u001b[1;32m    119\u001b[0m \u001b[0;34m\u001b[0m\u001b[0m\n",
      "\u001b[0;32m/usr/local/lib/python3.7/dist-packages/sklearn/metrics/cluster/unsupervised.py\u001b[0m in \u001b[0;36msilhouette_samples\u001b[0;34m(X, labels, metric, **kwds)\u001b[0m\n\u001b[1;32m    221\u001b[0m                                     labels=labels, label_freqs=label_freqs)\n\u001b[1;32m    222\u001b[0m     results = zip(*pairwise_distances_chunked(X, reduce_func=reduce_func,\n\u001b[0;32m--> 223\u001b[0;31m                                               **kwds))\n\u001b[0m\u001b[1;32m    224\u001b[0m     \u001b[0mintra_clust_dists\u001b[0m\u001b[0;34m,\u001b[0m \u001b[0minter_clust_dists\u001b[0m \u001b[0;34m=\u001b[0m \u001b[0mresults\u001b[0m\u001b[0;34m\u001b[0m\u001b[0;34m\u001b[0m\u001b[0m\n\u001b[1;32m    225\u001b[0m     \u001b[0mintra_clust_dists\u001b[0m \u001b[0;34m=\u001b[0m \u001b[0mnp\u001b[0m\u001b[0;34m.\u001b[0m\u001b[0mconcatenate\u001b[0m\u001b[0;34m(\u001b[0m\u001b[0mintra_clust_dists\u001b[0m\u001b[0;34m)\u001b[0m\u001b[0;34m\u001b[0m\u001b[0;34m\u001b[0m\u001b[0m\n",
      "\u001b[0;32m/usr/local/lib/python3.7/dist-packages/sklearn/metrics/pairwise.py\u001b[0m in \u001b[0;36mpairwise_distances_chunked\u001b[0;34m(X, Y, reduce_func, metric, n_jobs, working_memory, **kwds)\u001b[0m\n\u001b[1;32m   1456\u001b[0m             \u001b[0mchunk_size\u001b[0m \u001b[0;34m=\u001b[0m \u001b[0mD_chunk\u001b[0m\u001b[0;34m.\u001b[0m\u001b[0mshape\u001b[0m\u001b[0;34m[\u001b[0m\u001b[0;36m0\u001b[0m\u001b[0;34m]\u001b[0m\u001b[0;34m\u001b[0m\u001b[0;34m\u001b[0m\u001b[0m\n\u001b[1;32m   1457\u001b[0m             \u001b[0mD_chunk\u001b[0m \u001b[0;34m=\u001b[0m \u001b[0mreduce_func\u001b[0m\u001b[0;34m(\u001b[0m\u001b[0mD_chunk\u001b[0m\u001b[0;34m,\u001b[0m \u001b[0msl\u001b[0m\u001b[0;34m.\u001b[0m\u001b[0mstart\u001b[0m\u001b[0;34m)\u001b[0m\u001b[0;34m\u001b[0m\u001b[0;34m\u001b[0m\u001b[0m\n\u001b[0;32m-> 1458\u001b[0;31m             \u001b[0m_check_chunk_size\u001b[0m\u001b[0;34m(\u001b[0m\u001b[0mD_chunk\u001b[0m\u001b[0;34m,\u001b[0m \u001b[0mchunk_size\u001b[0m\u001b[0;34m)\u001b[0m\u001b[0;34m\u001b[0m\u001b[0;34m\u001b[0m\u001b[0m\n\u001b[0m\u001b[1;32m   1459\u001b[0m         \u001b[0;32myield\u001b[0m \u001b[0mD_chunk\u001b[0m\u001b[0;34m\u001b[0m\u001b[0;34m\u001b[0m\u001b[0m\n\u001b[1;32m   1460\u001b[0m \u001b[0;34m\u001b[0m\u001b[0m\n",
      "\u001b[0;31mKeyboardInterrupt\u001b[0m: "
     ]
    }
   ],
   "source": [
    "# Import the KElbowVisualizer method \n",
    "from yellowbrick.cluster import KElbowVisualizer\n",
    "\n",
    "# Instantiate a scikit-learn K-Means model\n",
    "kmeans = KMeans(random_state=0)\n",
    "\n",
    "# Instantiate the KElbowVisualizer with the number of clusters and the metric \n",
    "visualizer = KElbowVisualizer(kmeans, k=(5,12), metric='silhouette', timings=False)\n",
    "\n",
    "# Fit the data and visualize\n",
    "visualizer.fit(dataAll)    \n",
    "visualizer.poof()  "
   ]
  },
  {
   "cell_type": "code",
   "execution_count": 43,
   "metadata": {},
   "outputs": [],
   "source": [
    "import sklearn\n",
    "dataAll1, dataAll2= sklearn.model_selection.train_test_split(dataAll, test_size=0.4, random_state=0)"
   ]
  },
  {
   "cell_type": "code",
   "execution_count": 44,
   "metadata": {},
   "outputs": [
    {
     "name": "stdout",
     "output_type": "stream",
     "text": [
      "45076\n",
      "30052\n"
     ]
    }
   ],
   "source": [
    "print(len(dataAll1))\n",
    "print(len(dataAll2))"
   ]
  },
  {
   "cell_type": "code",
   "execution_count": 45,
   "metadata": {},
   "outputs": [
    {
     "data": {
      "image/png": "[encoded data removed]",
      "text/plain": [
       "<Figure size 432x288 with 1 Axes>"
      ]
     },
     "metadata": {
      "needs_background": "light"
     },
     "output_type": "display_data"
    }
   ],
   "source": [
    "from yellowbrick.cluster import KElbowVisualizer\n",
    "\n",
    "# Instantiate a scikit-learn K-Means model\n",
    "kmeans = KMeans(random_state=0)\n",
    "# Instantiate the KElbowVisualizer with the number of clusters and the metric \n",
    "visualizer = KElbowVisualizer(kmeans, k=(2,20), metric='silhouette', timings=False)\n",
    "\n",
    "# Fit the data and visualize\n",
    "visualizer.fit(dataAll2)    \n",
    "visualizer.poof() "
   ]
  },
  {
   "cell_type": "code",
   "execution_count": null,
   "metadata": {},
   "outputs": [],
   "source": [
    "#improvement one hot encoding\n"
   ]
  }
 ],
 "metadata": {
  "kernelspec": {
   "display_name": "Python 3",
   "language": "python",
   "name": "python3"
  },
  "language_info": {
   "codemirror_mode": {
    "name": "ipython",
    "version": 3
   },
   "file_extension": ".py",
   "mimetype": "text/x-python",
   "name": "python",
   "nbconvert_exporter": "python",
   "pygments_lexer": "ipython3",
   "version": "3.7.3"
  }
 },
 "nbformat": 4,
 "nbformat_minor": 2
}
